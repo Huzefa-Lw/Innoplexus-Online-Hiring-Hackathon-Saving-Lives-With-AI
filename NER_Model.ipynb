{
 "cells": [
  {
   "cell_type": "markdown",
   "metadata": {},
   "source": [
    "# Approach Summary:\n",
    "-  <font color= 'blue'>I used CRF(Conditional Random Field) classifier to constuct a model.</font>\n",
    "-  <font color= 'blue'>The library used for this purpose was __Stanford CoreNLP__.</font>\n",
    "-  <font color= 'blue'>This library is written in Java so the training of the model and generating predicitons was done on command line.</font>\n",
    "-  <font color= 'blue'>The screenshots of the above processes are shared below.</font>"
   ]
  },
  {
   "cell_type": "markdown",
   "metadata": {},
   "source": [
    "### Loading the Dependecies"
   ]
  },
  {
   "cell_type": "code",
   "execution_count": 114,
   "metadata": {},
   "outputs": [],
   "source": [
    "import pandas as pd\n",
    "import numpy as np\n",
    "import nltk\n",
    "from nltk.tag.stanford import StanfordNERTagger\n",
    "from tqdm import tqdm_notebook as tqdm\n",
    "from multiprocessing import Process, current_process\n",
    "import warnings\n",
    "warnings.filterwarnings(action= 'ignore')"
   ]
  },
  {
   "cell_type": "markdown",
   "metadata": {},
   "source": [
    "### Loading Files"
   ]
  },
  {
   "cell_type": "code",
   "execution_count": 76,
   "metadata": {},
   "outputs": [],
   "source": [
    "df_train= pd.read_csv('./train.csv')\n",
    "df_test= pd.read_csv('./test.csv')\n",
    "df_submission= pd.read_csv('./sample_submission.csv')"
   ]
  },
  {
   "cell_type": "code",
   "execution_count": 6,
   "metadata": {},
   "outputs": [
    {
     "data": {
      "text/plain": [
       "O                4446206\n",
       "B-indications      53003\n",
       "I-indications      44624\n",
       "Name: tag, dtype: int64"
      ]
     },
     "execution_count": 6,
     "metadata": {},
     "output_type": "execute_result"
    }
   ],
   "source": [
    "df_train.tag.value_counts()"
   ]
  },
  {
   "cell_type": "code",
   "execution_count": 7,
   "metadata": {},
   "outputs": [
    {
     "data": {
      "text/html": [
       "<div>\n",
       "<style scoped>\n",
       "    .dataframe tbody tr th:only-of-type {\n",
       "        vertical-align: middle;\n",
       "    }\n",
       "\n",
       "    .dataframe tbody tr th {\n",
       "        vertical-align: top;\n",
       "    }\n",
       "\n",
       "    .dataframe thead th {\n",
       "        text-align: right;\n",
       "    }\n",
       "</style>\n",
       "<table border=\"1\" class=\"dataframe\">\n",
       "  <thead>\n",
       "    <tr style=\"text-align: right;\">\n",
       "      <th></th>\n",
       "      <th>id</th>\n",
       "      <th>Doc_ID</th>\n",
       "      <th>Sent_ID</th>\n",
       "      <th>Word</th>\n",
       "      <th>tag</th>\n",
       "    </tr>\n",
       "  </thead>\n",
       "  <tbody>\n",
       "    <tr>\n",
       "      <th>0</th>\n",
       "      <td>1</td>\n",
       "      <td>1</td>\n",
       "      <td>1</td>\n",
       "      <td>Obesity</td>\n",
       "      <td>O</td>\n",
       "    </tr>\n",
       "    <tr>\n",
       "      <th>1</th>\n",
       "      <td>2</td>\n",
       "      <td>1</td>\n",
       "      <td>1</td>\n",
       "      <td>in</td>\n",
       "      <td>O</td>\n",
       "    </tr>\n",
       "    <tr>\n",
       "      <th>2</th>\n",
       "      <td>3</td>\n",
       "      <td>1</td>\n",
       "      <td>1</td>\n",
       "      <td>Low-</td>\n",
       "      <td>O</td>\n",
       "    </tr>\n",
       "    <tr>\n",
       "      <th>3</th>\n",
       "      <td>4</td>\n",
       "      <td>1</td>\n",
       "      <td>1</td>\n",
       "      <td>and</td>\n",
       "      <td>O</td>\n",
       "    </tr>\n",
       "    <tr>\n",
       "      <th>4</th>\n",
       "      <td>5</td>\n",
       "      <td>1</td>\n",
       "      <td>1</td>\n",
       "      <td>Middle-Income</td>\n",
       "      <td>O</td>\n",
       "    </tr>\n",
       "  </tbody>\n",
       "</table>\n",
       "</div>"
      ],
      "text/plain": [
       "   id  Doc_ID  Sent_ID           Word tag\n",
       "0   1       1        1        Obesity   O\n",
       "1   2       1        1             in   O\n",
       "2   3       1        1           Low-   O\n",
       "3   4       1        1            and   O\n",
       "4   5       1        1  Middle-Income   O"
      ]
     },
     "execution_count": 7,
     "metadata": {},
     "output_type": "execute_result"
    }
   ],
   "source": [
    "df_train.head()"
   ]
  },
  {
   "cell_type": "markdown",
   "metadata": {},
   "source": [
    "<font color= 'blue'>For training my model I removed documents which didn't contain the __indication__ tag.</font>"
   ]
  },
  {
   "cell_type": "code",
   "execution_count": 8,
   "metadata": {},
   "outputs": [],
   "source": [
    "ls= df_train.groupby('Doc_ID')['tag'].apply(lambda x: len(x.unique()))\n",
    "doc_id_to_use= ls.loc[ls!= 1].index.tolist()"
   ]
  },
  {
   "cell_type": "code",
   "execution_count": 9,
   "metadata": {},
   "outputs": [
    {
     "data": {
      "text/plain": [
       "14225"
      ]
     },
     "execution_count": 9,
     "metadata": {},
     "output_type": "execute_result"
    }
   ],
   "source": [
    "len(doc_id_to_use)"
   ]
  },
  {
   "cell_type": "markdown",
   "metadata": {},
   "source": [
    "### Creating the training file for the model\n",
    "-  <font color= 'blue'>The training file is a Tab Seperated Value(.tsv) file in which the first element of the row is the word and the second element is the tag.</font>\n",
    "-  <font color= 'blue'>For the purpose of training, I just kept two tags, __INDICATION__ for tagging the diseases and __O__ for everything else.</font>"
   ]
  },
  {
   "cell_type": "code",
   "execution_count": 10,
   "metadata": {},
   "outputs": [],
   "source": [
    "with open('stanford_train.txt', 'a') as f:\n",
    "    for doc_id in doc_id_to_use[: 14126]:\n",
    "        df_temp= df_train.loc[df_train['Doc_ID']== doc_id, :]\n",
    "        \n",
    "        for idx, row in df_temp[['Word', 'tag']].iterrows():\n",
    "            word= row.Word\n",
    "            tag= row.tag\n",
    "            if tag== 'O':\n",
    "                f.write(str(word)+ '\\t'+tag)\n",
    "\n",
    "            else:\n",
    "                f.write(str(word)+ '\\t'+ 'INDICATIONS')\n",
    "\n",
    "            f.write('\\n')\n",
    "        \n",
    "        f.write('\\n')"
   ]
  },
  {
   "cell_type": "markdown",
   "metadata": {},
   "source": [
    "<font color= 'blue'>The below image depicts the training process.</font>"
   ]
  },
  {
   "cell_type": "markdown",
   "metadata": {},
   "source": [
    "![title](img/Training_Model.png)"
   ]
  },
  {
   "cell_type": "markdown",
   "metadata": {},
   "source": [
    "<font color= 'blue'>Creating the validation file. The format of this file is same as that of the training file.</font>"
   ]
  },
  {
   "cell_type": "code",
   "execution_count": 11,
   "metadata": {},
   "outputs": [],
   "source": [
    "with open('stanford_val.txt', 'a') as f:\n",
    "    for doc_id in doc_id_to_use[14126: ]:\n",
    "        df_temp= df_train.loc[df_train['Doc_ID']== doc_id, :]\n",
    "        \n",
    "        for idx, row in df_temp[['Word', 'tag']].iterrows():\n",
    "            word= row.Word\n",
    "            tag= row.tag\n",
    "            if tag== 'O':\n",
    "                f.write(str(word)+ '\\t'+tag)\n",
    "\n",
    "            else:\n",
    "                f.write(str(word)+ '\\t'+ 'INDICATIONS')\n",
    "\n",
    "            f.write('\\n')\n",
    "        \n",
    "        f.write('\\n')"
   ]
  },
  {
   "cell_type": "markdown",
   "metadata": {},
   "source": [
    "<font color= 'blue'>The below image shows the validation process.</font>"
   ]
  },
  {
   "cell_type": "markdown",
   "metadata": {},
   "source": [
    "![title](img/Testing_Model.png)"
   ]
  },
  {
   "cell_type": "markdown",
   "metadata": {},
   "source": [
    "<font color= 'blue'>The below image shows the validation results.</font>"
   ]
  },
  {
   "cell_type": "markdown",
   "metadata": {},
   "source": [
    "![title](img/Test_Results.png)"
   ]
  },
  {
   "cell_type": "markdown",
   "metadata": {},
   "source": [
    "<font color= 'blue'>After getting satisfactory results on the validation set, I again trained my model on complete training data to improve my models accuracy. i.e. I used all the 14225 doc ids to train my model</font>"
   ]
  },
  {
   "cell_type": "markdown",
   "metadata": {},
   "source": [
    "### Loading the trained model and the jar file containing the all the dependencies."
   ]
  },
  {
   "cell_type": "code",
   "execution_count": 12,
   "metadata": {},
   "outputs": [],
   "source": [
    "model= '/Users/hu20018391/Practice/Innoplexus/ner-model.ser.gz'\n",
    "jar= '/Users/hu20018391/Practice/stanford-ner-2018-10-16/stanford-ner-3.9.2.jar'"
   ]
  },
  {
   "cell_type": "code",
   "execution_count": 13,
   "metadata": {},
   "outputs": [
    {
     "name": "stderr",
     "output_type": "stream",
     "text": [
      "/anaconda3/lib/python3.6/site-packages/nltk/tag/stanford.py:183: DeprecationWarning: \n",
      "The StanfordTokenizer will be deprecated in version 3.2.5.\n",
      "Please use \u001b[91mnltk.tag.corenlp.CoreNLPPOSTagger\u001b[0m or \u001b[91mnltk.tag.corenlp.CoreNLPNERTagger\u001b[0m instead.\n",
      "  super(StanfordNERTagger, self).__init__(*args, **kwargs)\n"
     ]
    }
   ],
   "source": [
    "st_2= StanfordNERTagger(model, jar, encoding= 'utf-8')"
   ]
  },
  {
   "cell_type": "code",
   "execution_count": 120,
   "metadata": {},
   "outputs": [],
   "source": [
    "sentence= df_test.loc[df_test.Sent_ID== 191294, 'Word'].values.tolist()"
   ]
  },
  {
   "cell_type": "code",
   "execution_count": 121,
   "metadata": {},
   "outputs": [
    {
     "data": {
      "text/plain": [
       "[('Pasteurellosis', 'INDICATIONS'),\n",
       " ('in', 'O'),\n",
       " ('japanese', 'O'),\n",
       " ('quail', 'O'),\n",
       " ('(', 'O'),\n",
       " ('Coturnix', 'O'),\n",
       " ('coturnix', 'O'),\n",
       " ('japonica', 'O'),\n",
       " (')', 'O'),\n",
       " ('caused', 'O'),\n",
       " ('by', 'O'),\n",
       " ('Pasteurella', 'INDICATIONS'),\n",
       " ('multocida', 'INDICATIONS'),\n",
       " ('multocida', 'INDICATIONS'),\n",
       " ('A:4', 'O'),\n",
       " ('.', 'O')]"
      ]
     },
     "execution_count": 121,
     "metadata": {},
     "output_type": "execute_result"
    }
   ],
   "source": [
    "st_2.tag(sentence, )"
   ]
  },
  {
   "cell_type": "code",
   "execution_count": 14,
   "metadata": {},
   "outputs": [],
   "source": [
    "test_doc_id= df_test.Doc_ID.unique().tolist()"
   ]
  },
  {
   "cell_type": "code",
   "execution_count": 16,
   "metadata": {},
   "outputs": [
    {
     "data": {
      "text/plain": [
       "20000"
      ]
     },
     "execution_count": 16,
     "metadata": {},
     "output_type": "execute_result"
    }
   ],
   "source": [
    "len(test_doc_id)"
   ]
  },
  {
   "cell_type": "code",
   "execution_count": 78,
   "metadata": {},
   "outputs": [
    {
     "data": {
      "text/plain": [
       "((2994463, 4), (2994463, 3))"
      ]
     },
     "execution_count": 78,
     "metadata": {},
     "output_type": "execute_result"
    }
   ],
   "source": [
    "df_test.shape, df_submission.shape"
   ]
  },
  {
   "cell_type": "code",
   "execution_count": 79,
   "metadata": {},
   "outputs": [],
   "source": [
    "sent_id_test= df_test.Sent_ID.unique().tolist()"
   ]
  },
  {
   "cell_type": "markdown",
   "metadata": {},
   "source": [
    "<font color= 'blue'>The above process of making prediction on individual sentences was slow. So I converted the test file into the same format as the validation file and made predictions from the command line.</font>"
   ]
  },
  {
   "cell_type": "code",
   "execution_count": 122,
   "metadata": {},
   "outputs": [],
   "source": [
    "with open('stanford_test.txt', 'a') as f:\n",
    "    for doc_id in sent_id_test:\n",
    "        df_temp= df_test.loc[df_test['Doc_ID']== doc_id, :]\n",
    "        \n",
    "        for idx, row in df_temp[['Word']].iterrows():\n",
    "            word= row.Word\n",
    "            tag= 'O'\n",
    "            \n",
    "            f.write(str(word)+ '\\t'+tag)\n",
    "\n",
    "            f.write('\\n')\n",
    "        \n",
    "        f.write('\\n')"
   ]
  },
  {
   "cell_type": "markdown",
   "metadata": {},
   "source": [
    "<font color= 'blue'>The below image shows the process of generating the output.</font>"
   ]
  },
  {
   "cell_type": "markdown",
   "metadata": {},
   "source": [
    "![title](img/Generating_Output.png)"
   ]
  },
  {
   "cell_type": "markdown",
   "metadata": {},
   "source": [
    "### Loading the predictions file"
   ]
  },
  {
   "cell_type": "code",
   "execution_count": 89,
   "metadata": {},
   "outputs": [],
   "source": [
    "output_file= pd.read_csv('./test_output.txt', sep= '\\t', names= ['Word', 'tag_0', 'tag'])"
   ]
  },
  {
   "cell_type": "markdown",
   "metadata": {},
   "source": [
    "### Converting the INDICATION tag into IOB format"
   ]
  },
  {
   "cell_type": "code",
   "execution_count": 102,
   "metadata": {},
   "outputs": [],
   "source": [
    "def bio_tagger(ne_tagged):\n",
    "    bio_tagged = []\n",
    "    prev_tag = \"O\"\n",
    "    \n",
    "    for tag in ne_tagged:\n",
    "        if tag == \"O\": #O\n",
    "            bio_tagged.append(tag)\n",
    "            prev_tag = tag\n",
    "            continue\n",
    "            \n",
    "        if tag != \"O\" and prev_tag == \"O\": # Begin NE\n",
    "            bio_tagged.append(\"B-\"+'indications')\n",
    "            prev_tag = tag\n",
    "            \n",
    "        elif prev_tag != \"O\" and prev_tag == tag: # Inside NE\n",
    "            bio_tagged.append(\"I-\"+'indications')\n",
    "            prev_tag = tag\n",
    "            \n",
    "    return bio_tagged"
   ]
  },
  {
   "cell_type": "code",
   "execution_count": 111,
   "metadata": {},
   "outputs": [],
   "source": [
    "df_test['tag']= bio_tagger(output_file['tag'].values)"
   ]
  },
  {
   "cell_type": "markdown",
   "metadata": {},
   "source": [
    "### Creating the submission file"
   ]
  },
  {
   "cell_type": "code",
   "execution_count": 113,
   "metadata": {},
   "outputs": [],
   "source": [
    "df_test[['id', 'Sent_ID', 'tag']].to_csv('Submission.csv', index= False)"
   ]
  }
 ],
 "metadata": {
  "kernelspec": {
   "display_name": "Python 3",
   "language": "python",
   "name": "python3"
  },
  "language_info": {
   "codemirror_mode": {
    "name": "ipython",
    "version": 3
   },
   "file_extension": ".py",
   "mimetype": "text/x-python",
   "name": "python",
   "nbconvert_exporter": "python",
   "pygments_lexer": "ipython3",
   "version": "3.6.8"
  }
 },
 "nbformat": 4,
 "nbformat_minor": 2
}
